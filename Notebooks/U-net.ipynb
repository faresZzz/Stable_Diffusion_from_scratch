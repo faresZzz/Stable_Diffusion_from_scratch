{
 "cells": [
  {
   "cell_type": "markdown",
   "metadata": {},
   "source": [
    "# U-NET"
   ]
  },
  {
   "cell_type": "markdown",
   "metadata": {},
   "source": [
    "## Imports"
   ]
  },
  {
   "cell_type": "code",
   "execution_count": 2,
   "metadata": {},
   "outputs": [],
   "source": [
    "import copy\n",
    "import os\n",
    "import random\n",
    "import shutil\n",
    "import zipfile\n",
    "from math import atan2, cos, sin, sqrt, pi, log\n",
    "\n",
    "import cv2\n",
    "import matplotlib.pyplot as plt\n",
    "import numpy as np\n",
    "import torch\n",
    "import torch.nn as nn\n",
    "import torch.nn.functional as F\n",
    "import torchvision.transforms as transforms\n",
    "from PIL import Image\n",
    "from numpy import linalg as LA\n",
    "from torch import optim, nn\n",
    "from torch.utils.data import DataLoader, random_split\n",
    "from torch.utils.data.dataset import Dataset\n",
    "from torchvision import transforms\n",
    "from tqdm import tqdm"
   ]
  },
  {
   "cell_type": "code",
   "execution_count": 3,
   "metadata": {},
   "outputs": [],
   "source": [
    "# Double Convolution Block (Conv -> ReLU -> Conv -> ReLU) corresponding to U-Net blue arrows\n",
    "class DoubleConv(nn.Module):\n",
    "    def __init__(self, in_channels, out_channels):\n",
    "        super().__init__()\n",
    "        self.conv_op = nn.Sequential(\n",
    "            nn.Conv2d(in_channels, out_channels, kernel_size=3, padding=1),\n",
    "            nn.ReLU(inplace=True),\n",
    "            nn.Conv2d(out_channels, out_channels, kernel_size=3, padding=1),\n",
    "            nn.ReLU(inplace=True)\n",
    "        )\n",
    "\n",
    "    def forward(self, x):\n",
    "        return self.conv_op(x)"
   ]
  },
  {
   "cell_type": "code",
   "execution_count": 4,
   "metadata": {},
   "outputs": [],
   "source": [
    "# DownSampling Block max_pool 2x2 corresponding to U-Net red arrows\n",
    "class DownSample(nn.Module):\n",
    "    def __init__(self, in_channels, out_channels):\n",
    "        super().__init__()\n",
    "        self.conv = DoubleConv(in_channels, out_channels)\n",
    "        self.pool = nn.MaxPool2d(kernel_size=2, stride=2)\n",
    "\n",
    "    def forward(self, x):\n",
    "        down = self.conv(x)\n",
    "        p = self.pool(down)\n",
    "\n",
    "        return down, p"
   ]
  },
  {
   "cell_type": "code",
   "execution_count": 5,
   "metadata": {},
   "outputs": [],
   "source": [
    "# UpSampling Block up-conv 2x2 corresponding to U-Net green arrows\n",
    "class UpSample(nn.Module):\n",
    "    def __init__(self, in_channels, out_channels):\n",
    "        super().__init__()\n",
    "        self.up = nn.ConvTranspose2d(in_channels, in_channels//2, kernel_size=2, stride=2)\n",
    "        self.conv = DoubleConv(in_channels, out_channels)\n",
    "\n",
    "    def forward(self, x1, x2):\n",
    "        x1 = self.up(x1)\n",
    "        x = torch.cat([x1, x2], 1)\n",
    "        return self.conv(x)\n"
   ]
  },
  {
   "cell_type": "code",
   "execution_count": 6,
   "metadata": {},
   "outputs": [],
   "source": [
    "class UNet(nn.Module):\n",
    "    def __init__(self, in_channels, num_classes):\n",
    "        super().__init__()\n",
    "        self.down_convolution_1 = DownSample(in_channels, 64)\n",
    "        self.down_convolution_2 = DownSample(64, 128)\n",
    "        self.down_convolution_3 = DownSample(128, 256)\n",
    "        self.down_convolution_4 = DownSample(256, 512)\n",
    "\n",
    "        self.bottle_neck = DoubleConv(512, 1024)\n",
    "\n",
    "        self.up_convolution_1 = UpSample(1024, 512)\n",
    "        self.up_convolution_2 = UpSample(512, 256)\n",
    "        self.up_convolution_3 = UpSample(256, 128)\n",
    "        self.up_convolution_4 = UpSample(128, 64)\n",
    "\n",
    "        self.out = nn.Conv2d(in_channels=64, out_channels=num_classes, kernel_size=1)\n",
    "\n",
    "    def forward(self, x):\n",
    "        down_1, p1 = self.down_convolution_1(x)\n",
    "        down_2, p2 = self.down_convolution_2(p1)\n",
    "        down_3, p3 = self.down_convolution_3(p2)\n",
    "        down_4, p4 = self.down_convolution_4(p3)\n",
    "\n",
    "        b = self.bottle_neck(p4)\n",
    "\n",
    "        up_1 = self.up_convolution_1(b, down_4)\n",
    "        up_2 = self.up_convolution_2(up_1, down_3)\n",
    "        up_3 = self.up_convolution_3(up_2, down_2)\n",
    "        up_4 = self.up_convolution_4(up_3, down_1)\n",
    "\n",
    "        out = self.out(up_4)\n",
    "        return out"
   ]
  },
  {
   "cell_type": "code",
   "execution_count": 7,
   "metadata": {},
   "outputs": [
    {
     "name": "stdout",
     "output_type": "stream",
     "text": [
      "torch.Size([1, 10, 512, 512])\n"
     ]
    }
   ],
   "source": [
    "input_image = torch.rand((1,3,512,512))\n",
    "model = UNet(3,10)\n",
    "output = model(input_image)\n",
    "print(output.size())\n",
    "# You should get torch.Size([1, 10, 512, 512]) as a result"
   ]
  },
  {
   "cell_type": "code",
   "execution_count": 8,
   "metadata": {},
   "outputs": [],
   "source": [
    "class CarvanaDataset(Dataset):\n",
    "    def __init__(self, root_path, limit=None):\n",
    "        self.root_path = root_path\n",
    "        self.limit = limit\n",
    "        self.images = sorted([root_path + \"/train/\" + i for i in os.listdir(root_path + \"/train/\")])[:self.limit]\n",
    "        self.masks = sorted([root_path + \"/train_masks/\" + i for i in os.listdir(root_path + \"/train_masks/\")])[:self.limit]\n",
    "\n",
    "        self.transform = transforms.Compose([\n",
    "            transforms.Resize((512, 512)),\n",
    "            transforms.ToTensor()])\n",
    "        \n",
    "        if self.limit is None:\n",
    "            self.limit = len(self.images)\n",
    "\n",
    "    def __getitem__(self, index):\n",
    "        img = Image.open(self.images[index]).convert(\"RGB\")\n",
    "        mask = Image.open(self.masks[index]).convert(\"L\")\n",
    "\n",
    "        return self.transform(img), self.transform(mask)\n",
    "\n",
    "    def __len__(self):\n",
    "        return min(len(self.images), self.limit)"
   ]
  },
  {
   "cell_type": "code",
   "execution_count": 9,
   "metadata": {},
   "outputs": [],
   "source": [
    "DATASET_DIR = '../data/raw/carvana-image-masking-challenge/'\n",
    "WORKING_DIR = '../data/processed/carvana-image-masking-challenge/'\n",
    "\n",
    "if len(os.listdir(WORKING_DIR)) <= 1:\n",
    "\n",
    "    with zipfile.ZipFile(DATASET_DIR + 'train.zip', 'r') as zip_file:\n",
    "        zip_file.extractall(WORKING_DIR)\n",
    "\n",
    "    with zipfile.ZipFile(DATASET_DIR + 'train_masks.zip', 'r') as zip_file:\n",
    "        zip_file.extractall(WORKING_DIR)\n",
    "    \n",
    "    print(\n",
    "        len(os.listdir(WORKING_DIR + 'train')),\n",
    "        len(os.listdir(WORKING_DIR + 'train_masks'))\n",
    "    )"
   ]
  },
  {
   "cell_type": "code",
   "execution_count": 10,
   "metadata": {},
   "outputs": [
    {
     "name": "stdout",
     "output_type": "stream",
     "text": [
      "80 10 10\n"
     ]
    }
   ],
   "source": [
    "generator = torch.Generator().manual_seed( 123)\n",
    "train_dataset = CarvanaDataset(WORKING_DIR, limit=100)\n",
    "train_dataset, test_dataset = random_split(train_dataset, [0.8, 0.2], generator=generator)\n",
    "test_dataset, val_dataset = random_split(test_dataset, [0.5, 0.5], generator=generator)\n",
    "\n",
    "print(len(train_dataset), len(test_dataset), len(val_dataset))\n"
   ]
  },
  {
   "cell_type": "code",
   "execution_count": 11,
   "metadata": {},
   "outputs": [
    {
     "name": "stdout",
     "output_type": "stream",
     "text": [
      "Running on mps\n"
     ]
    }
   ],
   "source": [
    "device = \"mps\" if torch.mps.is_available() else \"cuda\" if torch.cuda.is_available() else \"cpu\"\n",
    "\n",
    "\n",
    "print(f\"Running on {device}\")\n"
   ]
  },
  {
   "cell_type": "code",
   "execution_count": 12,
   "metadata": {},
   "outputs": [],
   "source": [
    "LEARNING_RATE = 3e-4\n",
    "BATCH_SIZE = 8\n",
    "NUM_WORKDERS = 0\n",
    "EPOCHS = 10\n",
    "\n",
    "\n",
    "train_dataloader = DataLoader(dataset=train_dataset,\n",
    "                              num_workers=NUM_WORKDERS, pin_memory=False,\n",
    "                              batch_size=BATCH_SIZE,\n",
    "                              shuffle=True)\n",
    "val_dataloader = DataLoader(dataset=val_dataset,\n",
    "                            num_workers=NUM_WORKDERS, pin_memory=False,\n",
    "                            batch_size=BATCH_SIZE,\n",
    "                            shuffle=True)\n",
    "\n",
    "test_dataloader = DataLoader(dataset=test_dataset,\n",
    "                            num_workers=NUM_WORKDERS, pin_memory=False,\n",
    "                            batch_size=BATCH_SIZE,\n",
    "                            shuffle=True)\n"
   ]
  },
  {
   "cell_type": "code",
   "execution_count": 13,
   "metadata": {},
   "outputs": [],
   "source": [
    "def dice_coefficient(prediction, target, epsilon=1e-07):\n",
    "    prediction_copy = prediction.clone()\n",
    "\n",
    "    prediction_copy[prediction_copy < 0] = 0\n",
    "    prediction_copy[prediction_copy > 0] = 1\n",
    "\n",
    "    intersection = abs(torch.sum(prediction_copy * target))\n",
    "    union = abs(torch.sum(prediction_copy) + torch.sum(target))\n",
    "    dice = (2. * intersection + epsilon) / (union + epsilon)\n",
    "    \n",
    "    return dice"
   ]
  },
  {
   "cell_type": "code",
   "execution_count": 14,
   "metadata": {},
   "outputs": [],
   "source": [
    "\n",
    "\n",
    "model = UNet(in_channels=3, num_classes=1).to(device)\n",
    "optimizer = optim.AdamW(model.parameters(), lr=LEARNING_RATE)\n",
    "criterion = nn.BCEWithLogitsLoss()"
   ]
  },
  {
   "cell_type": "code",
   "execution_count": 40,
   "metadata": {},
   "outputs": [
    {
     "name": "stderr",
     "output_type": "stream",
     "text": [
      "100%|██████████| 10/10 [07:12<00:00, 43.25s/it]\n",
      "100%|██████████| 2/2 [00:17<00:00,  8.96s/it]\n",
      " 10%|█         | 1/10 [07:30<1:07:33, 450.40s/it]"
     ]
    },
    {
     "name": "stdout",
     "output_type": "stream",
     "text": [
      "------------------------------\n",
      "Training Loss EPOCH 1: 0.6616\n",
      "Training DICE EPOCH 1: 0.2132\n",
      "\n",
      "\n",
      "Validation Loss EPOCH 1: 0.4950\n",
      "Validation DICE EPOCH 1: 0.0000\n",
      "------------------------------\n"
     ]
    },
    {
     "name": "stderr",
     "output_type": "stream",
     "text": [
      "100%|██████████| 10/10 [07:06<00:00, 42.61s/it]\n",
      "100%|██████████| 2/2 [00:17<00:00,  8.94s/it]\n",
      " 20%|██        | 2/10 [14:54<59:33, 446.65s/it]  "
     ]
    },
    {
     "name": "stdout",
     "output_type": "stream",
     "text": [
      "------------------------------\n",
      "Training Loss EPOCH 2: 0.4594\n",
      "Training DICE EPOCH 2: 0.0000\n",
      "\n",
      "\n",
      "Validation Loss EPOCH 2: 0.4362\n",
      "Validation DICE EPOCH 2: 0.0000\n",
      "------------------------------\n"
     ]
    },
    {
     "name": "stderr",
     "output_type": "stream",
     "text": [
      "100%|██████████| 10/10 [07:51<00:00, 47.19s/it]\n",
      "100%|██████████| 2/2 [00:19<00:00,  9.54s/it]\n",
      " 30%|███       | 3/10 [23:05<54:28, 466.89s/it]"
     ]
    },
    {
     "name": "stdout",
     "output_type": "stream",
     "text": [
      "------------------------------\n",
      "Training Loss EPOCH 3: 0.3769\n",
      "Training DICE EPOCH 3: 0.1500\n",
      "\n",
      "\n",
      "Validation Loss EPOCH 3: 0.3664\n",
      "Validation DICE EPOCH 3: 0.3329\n",
      "------------------------------\n"
     ]
    },
    {
     "name": "stderr",
     "output_type": "stream",
     "text": [
      "100%|██████████| 10/10 [07:42<00:00, 46.27s/it]\n",
      "100%|██████████| 2/2 [00:18<00:00,  9.38s/it]\n",
      " 40%|████      | 4/10 [31:06<47:15, 472.65s/it]"
     ]
    },
    {
     "name": "stdout",
     "output_type": "stream",
     "text": [
      "------------------------------\n",
      "Training Loss EPOCH 4: 0.3383\n",
      "Training DICE EPOCH 4: 0.5592\n",
      "\n",
      "\n",
      "Validation Loss EPOCH 4: 0.3628\n",
      "Validation DICE EPOCH 4: 0.5368\n",
      "------------------------------\n"
     ]
    },
    {
     "name": "stderr",
     "output_type": "stream",
     "text": [
      "100%|██████████| 10/10 [07:45<00:00, 46.55s/it]\n",
      "100%|██████████| 2/2 [00:20<00:00, 10.41s/it]\n",
      " 50%|█████     | 5/10 [39:13<39:47, 477.59s/it]"
     ]
    },
    {
     "name": "stdout",
     "output_type": "stream",
     "text": [
      "------------------------------\n",
      "Training Loss EPOCH 5: 0.3312\n",
      "Training DICE EPOCH 5: 0.6904\n",
      "\n",
      "\n",
      "Validation Loss EPOCH 5: 0.4727\n",
      "Validation DICE EPOCH 5: 0.4435\n",
      "------------------------------\n"
     ]
    },
    {
     "name": "stderr",
     "output_type": "stream",
     "text": [
      "100%|██████████| 10/10 [08:03<00:00, 48.33s/it]\n",
      "100%|██████████| 2/2 [00:21<00:00, 10.91s/it]\n",
      " 60%|██████    | 6/10 [47:38<32:27, 486.96s/it]"
     ]
    },
    {
     "name": "stdout",
     "output_type": "stream",
     "text": [
      "------------------------------\n",
      "Training Loss EPOCH 6: 0.3102\n",
      "Training DICE EPOCH 6: 0.6994\n",
      "\n",
      "\n",
      "Validation Loss EPOCH 6: 0.3130\n",
      "Validation DICE EPOCH 6: 0.6699\n",
      "------------------------------\n"
     ]
    },
    {
     "name": "stderr",
     "output_type": "stream",
     "text": [
      "100%|██████████| 10/10 [07:06<00:00, 42.69s/it]\n",
      "100%|██████████| 2/2 [00:18<00:00,  9.31s/it]\n",
      " 70%|███████   | 7/10 [55:03<23:40, 473.42s/it]"
     ]
    },
    {
     "name": "stdout",
     "output_type": "stream",
     "text": [
      "------------------------------\n",
      "Training Loss EPOCH 7: 0.2485\n",
      "Training DICE EPOCH 7: 0.7764\n",
      "\n",
      "\n",
      "Validation Loss EPOCH 7: 0.2447\n",
      "Validation DICE EPOCH 7: 0.7870\n",
      "------------------------------\n"
     ]
    },
    {
     "name": "stderr",
     "output_type": "stream",
     "text": [
      "100%|██████████| 10/10 [07:34<00:00, 45.47s/it]\n",
      "100%|██████████| 2/2 [00:22<00:00, 11.22s/it]\n",
      " 80%|████████  | 8/10 [1:03:01<15:49, 474.62s/it]"
     ]
    },
    {
     "name": "stdout",
     "output_type": "stream",
     "text": [
      "------------------------------\n",
      "Training Loss EPOCH 8: 0.2152\n",
      "Training DICE EPOCH 8: 0.8040\n",
      "\n",
      "\n",
      "Validation Loss EPOCH 8: 0.1652\n",
      "Validation DICE EPOCH 8: 0.8001\n",
      "------------------------------\n"
     ]
    },
    {
     "name": "stderr",
     "output_type": "stream",
     "text": [
      "100%|██████████| 10/10 [07:36<00:00, 45.61s/it]\n",
      "100%|██████████| 2/2 [00:18<00:00,  9.01s/it]\n",
      " 90%|█████████ | 9/10 [1:10:55<07:54, 474.49s/it]"
     ]
    },
    {
     "name": "stdout",
     "output_type": "stream",
     "text": [
      "------------------------------\n",
      "Training Loss EPOCH 9: 0.1621\n",
      "Training DICE EPOCH 9: 0.8374\n",
      "\n",
      "\n",
      "Validation Loss EPOCH 9: 0.1807\n",
      "Validation DICE EPOCH 9: 0.7788\n",
      "------------------------------\n"
     ]
    },
    {
     "name": "stderr",
     "output_type": "stream",
     "text": [
      "100%|██████████| 10/10 [08:16<00:00, 49.61s/it]\n",
      "100%|██████████| 2/2 [00:22<00:00, 11.09s/it]\n",
      "100%|██████████| 10/10 [1:19:33<00:00, 477.36s/it]"
     ]
    },
    {
     "name": "stdout",
     "output_type": "stream",
     "text": [
      "------------------------------\n",
      "Training Loss EPOCH 10: 0.1454\n",
      "Training DICE EPOCH 10: 0.8404\n",
      "\n",
      "\n",
      "Validation Loss EPOCH 10: 0.1523\n",
      "Validation DICE EPOCH 10: 0.8095\n",
      "------------------------------\n"
     ]
    },
    {
     "name": "stderr",
     "output_type": "stream",
     "text": [
      "\n"
     ]
    }
   ],
   "source": [
    "\n",
    "train_losses = []\n",
    "train_dcs = []\n",
    "val_losses = []\n",
    "val_dcs = []\n",
    "\n",
    "for epoch in tqdm(range(EPOCHS)):\n",
    "    model.train()\n",
    "    train_running_loss = 0\n",
    "    train_running_dc = 0\n",
    "    \n",
    "    for idx, img_mask in enumerate(tqdm(train_dataloader, position=0, leave=True)):\n",
    "        img = img_mask[0].float().to(device)\n",
    "        mask = img_mask[1].float().to(device)\n",
    "        \n",
    "        y_pred = model(img)\n",
    "        optimizer.zero_grad()\n",
    "        \n",
    "        dc = dice_coefficient(y_pred, mask)\n",
    "        loss = criterion(y_pred, mask)\n",
    "        \n",
    "        train_running_loss += loss.item()\n",
    "        train_running_dc += dc.item()\n",
    "\n",
    "        loss.backward()\n",
    "        optimizer.step()\n",
    "\n",
    "    train_loss = train_running_loss / (idx + 1)\n",
    "    train_dc = train_running_dc / (idx + 1)\n",
    "    \n",
    "    train_losses.append(train_loss)\n",
    "    train_dcs.append(train_dc)\n",
    "\n",
    "    model.eval()\n",
    "    val_running_loss = 0\n",
    "    val_running_dc = 0\n",
    "    \n",
    "    with torch.no_grad():\n",
    "        for idx, img_mask in enumerate(tqdm(val_dataloader, position=0, leave=True)):\n",
    "            img = img_mask[0].float().to(device)\n",
    "            mask = img_mask[1].float().to(device)\n",
    "\n",
    "            y_pred = model(img)\n",
    "            loss = criterion(y_pred, mask)\n",
    "            dc = dice_coefficient(y_pred, mask)\n",
    "            \n",
    "            val_running_loss += loss.item()\n",
    "            val_running_dc += dc.item()\n",
    "\n",
    "        val_loss = val_running_loss / (idx + 1)\n",
    "        val_dc = val_running_dc / (idx + 1)\n",
    "    \n",
    "    val_losses.append(val_loss)\n",
    "    val_dcs.append(val_dc)\n",
    "\n",
    "    print(\"-\" * 30)\n",
    "    print(f\"Training Loss EPOCH {epoch + 1}: {train_loss:.4f}\")\n",
    "    print(f\"Training DICE EPOCH {epoch + 1}: {train_dc:.4f}\")\n",
    "    print(\"\\n\")\n",
    "    print(f\"Validation Loss EPOCH {epoch + 1}: {val_loss:.4f}\")\n",
    "    print(f\"Validation DICE EPOCH {epoch + 1}: {val_dc:.4f}\")\n",
    "    print(\"-\" * 30) \n",
    "\n"
   ]
  },
  {
   "cell_type": "code",
   "execution_count": 41,
   "metadata": {},
   "outputs": [
    {
     "data": {
      "image/png": "[encoded data removed]",
      "text/plain": [
       "<Figure size 1200x500 with 2 Axes>"
      ]
     },
     "metadata": {},
     "output_type": "display_data"
    }
   ],
   "source": [
    "epochs_list = list(range(1, EPOCHS + 1))\n",
    "\n",
    "plt.figure(figsize=(12, 5))\n",
    "plt.subplot(1, 2, 1)\n",
    "plt.plot(epochs_list, train_losses, label='Training Loss')\n",
    "plt.plot(epochs_list, val_losses, label='Validation Loss')\n",
    "plt.xticks(ticks=list(range(1, EPOCHS + 1, 1))) \n",
    "plt.title('Loss over epochs')\n",
    "plt.xlabel('Epochs')\n",
    "plt.ylabel('Loss')\n",
    "plt.grid()\n",
    "plt.tight_layout()\n",
    "\n",
    "plt.legend()\n",
    "\n",
    "\n",
    "plt.subplot(1, 2, 2)\n",
    "plt.plot(epochs_list, train_dcs, label='Training DICE')\n",
    "plt.plot(epochs_list, val_dcs, label='Validation DICE')\n",
    "plt.xticks(ticks=list(range(1, EPOCHS + 1, 1)))  \n",
    "plt.title('DICE Coefficient over epochs')\n",
    "plt.xlabel('Epochs')\n",
    "plt.ylabel('DICE')\n",
    "plt.grid()\n",
    "plt.legend()\n",
    "\n",
    "plt.tight_layout()\n",
    "plt.show()"
   ]
  },
  {
   "cell_type": "code",
   "execution_count": 16,
   "metadata": {},
   "outputs": [],
   "source": [
    "# Save the model\n",
    "model_pth = '../models/U-net.pth'\n",
    "# torch.save(model.state_dict(), model_pth)"
   ]
  },
  {
   "cell_type": "code",
   "execution_count": 17,
   "metadata": {},
   "outputs": [
    {
     "data": {
      "text/plain": [
       "<All keys matched successfully>"
      ]
     },
     "execution_count": 17,
     "metadata": {},
     "output_type": "execute_result"
    }
   ],
   "source": [
    "\n",
    "trained_model = UNet(in_channels=3, num_classes=1).to(device)\n",
    "trained_model.load_state_dict(torch.load(model_pth, map_location=torch.device(device)))"
   ]
  },
  {
   "cell_type": "code",
   "execution_count": 18,
   "metadata": {},
   "outputs": [
    {
     "name": "stderr",
     "output_type": "stream",
     "text": [
      "100%|██████████| 2/2 [00:04<00:00,  2.06s/it]\n"
     ]
    }
   ],
   "source": [
    "test_running_loss = 0\n",
    "test_running_dc = 0\n",
    "\n",
    "with torch.no_grad():\n",
    "    for idx, img_mask in enumerate(tqdm(test_dataloader, position=0, leave=True)):\n",
    "        img = img_mask[0].float().to(device)\n",
    "        mask = img_mask[1].float().to(device)\n",
    "\n",
    "        y_pred = trained_model(img)\n",
    "        loss = criterion(y_pred, mask)\n",
    "        dc = dice_coefficient(y_pred, mask)\n",
    "\n",
    "        test_running_loss += loss.item()\n",
    "        test_running_dc += dc.item()\n",
    "\n",
    "    test_loss = test_running_loss / (idx + 1)\n",
    "    test_dc = test_running_dc / (idx + 1)"
   ]
  },
  {
   "cell_type": "code",
   "execution_count": null,
   "metadata": {},
   "outputs": [],
   "source": [
    "def random_images_inference(image_tensors, mask_tensors, image_paths, model, device):\n",
    "\n",
    "    transform = transforms.Compose([\n",
    "        transforms.Resize((512, 512))\n",
    "    ])\n",
    "\n",
    "    # Iterate for the images, masks and paths\n",
    "    for image_pth, mask_pth, image_paths in zip(image_tensors, mask_tensors, image_paths):\n",
    "        # Load the image\n",
    "        img = transform(image_pth)\n",
    "        \n",
    "        # Predict the imagen with the model\n",
    "        pred_mask = model(img.unsqueeze(0))\n",
    "        pred_mask = pred_mask.squeeze(0).permute(1,2,0)\n",
    "        \n",
    "        # Load the mask to compare\n",
    "        mask = transform(mask_pth).permute(1, 2, 0).to(device)\n",
    "        \n",
    "        print(f\"Image: {os.path.basename(image_paths)}, DICE coefficient: {round(float(dice_coefficient(pred_mask, mask)),5)}\")\n",
    "        \n",
    "        # Show the images\n",
    "        img = img.cpu().detach().permute(1, 2, 0)\n",
    "        pred_mask = pred_mask.cpu().detach()\n",
    "        pred_mask[pred_mask < 0] = 0\n",
    "        pred_mask[pred_mask > 0] = 1\n",
    "        \n",
    "        plt.figure(figsize=(15, 16))\n",
    "        plt.subplot(131), plt.imshow(img), plt.title(\"original\")\n",
    "        plt.subplot(132), plt.imshow(pred_mask, cmap=\"gray\"), plt.title(\"predicted\")\n",
    "        plt.subplot(133), plt.imshow(mask, cmap=\"gray\"), plt.title(\"mask\")\n",
    "        plt.show()\n",
    "\n",
    "\n",
    "n = 10\n",
    "\n",
    "image_tensors = []\n",
    "mask_tensors = []\n",
    "image_paths = []\n",
    "\n",
    "for _ in range(n):\n",
    "    random_index = random.randint(0, len(test_dataloader.dataset) - 1)\n",
    "    random_sample = test_dataloader.dataset[random_index]\n",
    "    \n",
    "    image_tensors.append(random_sample[0])  \n",
    "    mask_tensors.append(random_sample[1]) \n",
    "    # image_paths.append(random_sample[2]) \n",
    "\n",
    "\n",
    "random_images_inference(image_tensors, mask_tensors, image_paths, model, device=\"cpu\")\n"
   ]
  }
 ],
 "metadata": {
  "kernelspec": {
   "display_name": ".venv",
   "language": "python",
   "name": "python3"
  },
  "language_info": {
   "codemirror_mode": {
    "name": "ipython",
    "version": 3
   },
   "file_extension": ".py",
   "mimetype": "text/x-python",
   "name": "python",
   "nbconvert_exporter": "python",
   "pygments_lexer": "ipython3",
   "version": "3.10.15"
  }
 },
 "nbformat": 4,
 "nbformat_minor": 2
}
